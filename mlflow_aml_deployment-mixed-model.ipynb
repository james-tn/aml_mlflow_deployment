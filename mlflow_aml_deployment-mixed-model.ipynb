{
 "cells": [
  {
   "cell_type": "markdown",
   "metadata": {},
   "source": [
    "## Deployment of Mixed Model to Azure ML using MLFlow API"
   ]
  },
  {
   "cell_type": "code",
   "execution_count": 1,
   "metadata": {},
   "outputs": [],
   "source": [
    "import mlflow\n",
    "from azureml.core import Workspace\n",
    "\n",
    "ws = Workspace.from_config()\n",
    "\n",
    "# mlflow.set_tracking_uri(ws.get_mlflow_tracking_uri())\n"
   ]
  },
  {
   "cell_type": "code",
   "execution_count": 60,
   "metadata": {},
   "outputs": [
    {
     "data": {
      "text/plain": [
       "<mlflow.models.model.Model at 0x16ac4d22820>"
      ]
     },
     "execution_count": 60,
     "metadata": {},
     "output_type": "execute_result"
    }
   ],
   "source": [
    "#Save the python flavor of the model together with environment spec\n",
    "import mlflow.pyfunc\n",
    "from sys import version_info\n",
    "\n",
    "import glob\n",
    "import cv2\n",
    "from tensorflow.keras.preprocessing import image\n",
    "from tensorflow.keras.applications.vgg19 import VGG19\n",
    "from tensorflow.keras.applications.vgg19 import preprocess_input\n",
    "import numpy as np\n",
    "from tensorflow.keras.models import Model\n",
    "import tensorflow as tf\n",
    "import sklearn\n",
    "# Construct and save the model\n",
    "PYTHON_VERSION = \"{major}.{minor}.{micro}\".format(major=version_info.major,\n",
    "                                                  minor=version_info.minor,\n",
    "                                                  micro=version_info.micro)\n",
    "\n",
    "conda_env = {\n",
    "    'channels': ['defaults'],\n",
    "    'dependencies': [\n",
    "      'python={}'.format(PYTHON_VERSION),\n",
    "      'pip',\n",
    "      {\n",
    "        'pip': [\n",
    "          'mlflow',\n",
    "            'opencv-python-headless',\n",
    "            'pillow',\n",
    "            'azureml-mlflow',\n",
    "          'tensorflow=={}'.format(tf.__version__),\n",
    "          'scikit-learn=={}'.format(sklearn.__version__),\n",
    "        ],\n",
    "      },\n",
    "    ],\n",
    "    'name': 'tf_env'\n",
    "}\n",
    "\n",
    "\n",
    "model_path = \"mixed_model\"\n",
    "mlflow.pyfunc.save_model(path=model_path, data_path ='output',loader_module ='mixedmodel.model_loader', code_path=['mixedmodel'], conda_env=conda_env)\n",
    "\n"
   ]
  },
  {
   "cell_type": "markdown",
   "metadata": {},
   "source": [
    "### Preparing data to test service\n"
   ]
  },
  {
   "cell_type": "code",
   "execution_count": 46,
   "metadata": {},
   "outputs": [],
   "source": [
    "#Testing the deployed service\n",
    "\n",
    "from io import BytesIO\n",
    "import pandas as pd\n",
    "import json\n",
    "import base64\n",
    "ENCODING = 'utf-8'\n",
    "test_image_paths =['dataset/images/airplane/image_0001.jpg','dataset/images/airplane/image_0002.jpg','dataset/images/airplane/image_0003.jpg']\n",
    "additional_feature_file ='output/sample_feature.json'\n",
    "feature_file_df = pd.read_json(additional_feature_file)\n",
    "base64_string_list=[]\n",
    "for test_image_path in test_image_paths:\n",
    "    with open(test_image_path,\"rb\") as img:\n",
    "        image_bytes = BytesIO(img.read())\n",
    "    encoded_image =base64.b64encode(image_bytes.getvalue())\n",
    "    base64_string = encoded_image.decode(ENCODING)\n",
    "    base64_string= \"b'{0}'\".format(base64_string)\n",
    "    base64_string_list.append(base64_string)\n",
    "image_request = {\"image\": base64_string_list, \"additional_feature\":[feature_file_df.iloc[i].to_json() for i in range(feature_file_df.shape[0])]}\n",
    "image_request= {\"data\": image_request}\n",
    "# payload.append(image_request)\n",
    "\n",
    "body = json.dumps(image_request)"
   ]
  },
  {
   "cell_type": "code",
   "execution_count": 57,
   "metadata": {
    "scrolled": false
   },
   "outputs": [],
   "source": [
    "from PIL import Image\n",
    "from tensorflow.keras.preprocessing.image import img_to_array\n",
    "import ast\n",
    "import joblib\n",
    "\n",
    "from mlflow.pyfunc.scoring_server import parse_json_input, _get_jsonable_obj\n",
    "\n",
    "\n",
    "\n",
    "\n",
    "restored_model = joblib.load(\"output/rf_sample.pkl\")\n",
    "base_model = VGG19(weights='imagenet')\n",
    "model= Model(base_model.input, outputs = base_model.get_layer(\"fc2\").output)\n",
    "\n",
    "def base64ToImg(base64ImgString):\n",
    "\n",
    "    if base64ImgString.startswith('b\\''):\n",
    "\n",
    "        base64ImgString = base64ImgString[2:-1]\n",
    "\n",
    "    base64Img   =  base64ImgString.encode('utf-8')\n",
    "\n",
    "    decoded_img = base64.b64decode(base64Img)\n",
    "\n",
    "    img_buffer  = BytesIO(decoded_img)\n",
    "\n",
    "    img = Image.open(img_buffer)\n",
    "    return img\n",
    "\n",
    "features_list = []\n",
    "addional_feature_list=[]\n",
    "\n",
    "for row_idx in range(imagePathDF.shape[0]):\n",
    "    base64_string = imagePathDF.iloc[row_idx]['image']\n",
    "    img = base64ToImg(base64_string)\n",
    "    image= img.resize((224, 224))\n",
    "    image = img_to_array(image)\n",
    "    image = np.expand_dims(image, axis=0)\n",
    "    x = preprocess_input(image)\n",
    "    features = model.predict(x)\n",
    "    features_list.append(features)\n",
    "    addional_feature = imagePathDF.iloc[row_idx][\"additional_feature\"]\n",
    "    addional_feature_list.append(ast.literal_eval(addional_feature))\n",
    "new_features = np.concatenate([pd.DataFrame(addional_feature_list).values, np.concatenate(features_list)], axis=1)"
   ]
  },
  {
   "cell_type": "code",
   "execution_count": 61,
   "metadata": {},
   "outputs": [],
   "source": [
    "import json\n",
    "# data = json.loads(body)['data']\n",
    "imagePathDF = parse_json_input(json_input=body, orient=\"split\")"
   ]
  },
  {
   "cell_type": "code",
   "execution_count": 62,
   "metadata": {
    "scrolled": true
   },
   "outputs": [
    {
     "name": "stdout",
     "output_type": "stream",
     "text": [
      "[0, 0, 0]\n"
     ]
    }
   ],
   "source": [
    "#Reload model locally and score \n",
    "\n",
    "import mlflow\n",
    "# model_path = \"model\"\n",
    "loaded_model = mlflow.pyfunc.load_model(model_path)\n",
    "\n",
    "pred_output = loaded_model.predict(imagePathDF)\n",
    "print(pred_output)"
   ]
  },
  {
   "cell_type": "markdown",
   "metadata": {},
   "source": [
    "### Deploy model to ACI"
   ]
  },
  {
   "cell_type": "code",
   "execution_count": 65,
   "metadata": {},
   "outputs": [],
   "source": [
    "from azureml.core.webservice import AciWebservice, Webservice\n",
    "\n",
    "# Set the model path to the model folder created by your run\n",
    "\n",
    "# Configure \n",
    "aci_config = AciWebservice.deploy_configuration(cpu_cores=1, \n",
    "                                                memory_gb=4, \n",
    "                                                tags={'method' : 'keras/tf'}, \n",
    "                                                description='aml-mlflow model',\n",
    "                                                location='westus2')\n"
   ]
  },
  {
   "cell_type": "code",
   "execution_count": 67,
   "metadata": {
    "scrolled": true
   },
   "outputs": [
    {
     "name": "stdout",
     "output_type": "stream",
     "text": [
      "Registering model aml_mflow_mixedmodel\n"
     ]
    },
    {
     "name": "stderr",
     "output_type": "stream",
     "text": [
      "2021/01/24 20:37:04 INFO mlflow.azureml: Registered an Azure Model with name: `aml_mflow_mixedmodel` and version: `2`\n",
      "2021/01/24 20:37:07 INFO mlflow.azureml: Deploying an Azure Webservice with name: `aml-mlflow-mixedmodel-v1`\n"
     ]
    },
    {
     "name": "stdout",
     "output_type": "stream",
     "text": [
      "Tips: You can try get_logs(): https://aka.ms/debugimage#dockerlog or local deployment: https://aka.ms/debugimage#debug-locally to debug if deployment takes longer than 10 minutes.\n",
      "Running....................................................................\n",
      "Succeeded\n",
      "ACI service creation operation finished, operation \"Succeeded\"\n",
      "Tips: You can try get_logs(): https://aka.ms/debugimage#dockerlog or local deployment: https://aka.ms/debugimage#debug-locally to debug if deployment takes longer than 10 minutes.\n",
      "SucceededACI service creation operation finished, operation \"Succeeded\"\n"
     ]
    }
   ],
   "source": [
    "import mlflow.azureml\n",
    "(webservice,model) = mlflow.azureml.deploy( model_uri=model_path,\n",
    "                      workspace=ws,\n",
    "                      model_name='aml_mflow_mixedmodel', \n",
    "                      service_name='aml-mlflow-mixedmodel-v1', \n",
    "                      deployment_config=aci_config, \n",
    "                      tags=None, mlflow_home=None, synchronous=True)\n",
    "\n",
    "webservice.wait_for_deployment(show_output=True)\n"
   ]
  },
  {
   "cell_type": "markdown",
   "metadata": {},
   "source": [
    "### Deploy model to AKS"
   ]
  },
  {
   "cell_type": "code",
   "execution_count": 91,
   "metadata": {},
   "outputs": [
    {
     "name": "stdout",
     "output_type": "stream",
     "text": [
      "Creating.......................................................................\n",
      "SucceededProvisioning operation finished, operation \"Succeeded\"\n",
      "Succeeded\n",
      "None\n"
     ]
    }
   ],
   "source": [
    "from azureml.core.compute import AksCompute, ComputeTarget\n",
    "\n",
    "# Use the default configuration (can also provide parameters to customize)\n",
    "# prov_config = AksCompute.provisioning_configuration()\n",
    "\n",
    "prov_config = AksCompute.provisioning_configuration(vm_size = \"Standard_D11_v2\",\n",
    "                                                   agent_count = 3,\n",
    "                                                   location = \"westus2\")\n",
    "\n",
    "aks_name = 'aks-mlflowd11'\n",
    "\n",
    "# Create the cluster\n",
    "aks_target = ComputeTarget.create(workspace=ws, \n",
    "                                  name=aks_name, \n",
    "                                  provisioning_configuration=prov_config)\n",
    "\n",
    "aks_target.wait_for_completion(show_output = True)\n",
    "\n",
    "print(aks_target.provisioning_state)\n",
    "print(aks_target.provisioning_errors)\n"
   ]
  },
  {
   "cell_type": "code",
   "execution_count": 94,
   "metadata": {},
   "outputs": [],
   "source": [
    "from azureml.core.webservice import Webservice, AksWebservice\n",
    "\n",
    "# Set the web service configuration (using default here with app insights)\n",
    "aks_config = AksWebservice.deploy_configuration(enable_app_insights=True, cpu_cores = 1, memory_gb = 7, compute_target_name='aks-mlflowd11',autoscale_enabled=True, \n",
    "                                                autoscale_target_utilization=30,\n",
    "                                                autoscale_min_replicas=3)\n",
    "\n"
   ]
  },
  {
   "cell_type": "code",
   "execution_count": 95,
   "metadata": {
    "scrolled": false
   },
   "outputs": [
    {
     "name": "stderr",
     "output_type": "stream",
     "text": [
      "2021-01-20 10:43:44,645 WARNING Retrying (Retry(total=2, connect=None, read=None, redirect=None, status=None)) after connection broken by 'ProtocolError('Connection aborted.', ConnectionResetError(10054, 'An existing connection was forcibly closed by the remote host', None, 10054, None))': /azureml/LocalUpload/210120T104342-7317119f/model/code/pyimagesearch/__init__.py?sv=2019-02-02&sr=b&sig=wBIk36kjFdB3hEkyt6ddljK7momc2kD6uy8sYdoEp0M%3D&st=2021-01-20T18%3A33%3A45Z&se=2021-01-21T18%3A43%3A45Z&sp=rcw&comp=blocklist&timeout=30\n",
      "2021-01-20 10:43:44,657 WARNING Retrying (Retry(total=2, connect=None, read=None, redirect=None, status=None)) after connection broken by 'ProtocolError('Connection aborted.', ConnectionResetError(10054, 'An existing connection was forcibly closed by the remote host', None, 10054, None))': /azureml/LocalUpload/210120T104342-7317119f/model/code/pyimagesearch/__pycache__/__init__.cpython-37.pyc?sv=2019-02-02&sr=b&sig=cOuOckQOqqN1Lvaz8E3vvIFE39cMsmJ4W1K2cG1jegY%3D&st=2021-01-20T18%3A33%3A45Z&se=2021-01-21T18%3A43%3A45Z&sp=rcw&comp=block&blockid=TURBd01EQXdNREF3TURBd01EQXdNREF3TURBd01EQXdNREF3TURBd01EQSUzRA%3D%3D&timeout=30\n",
      "2021-01-20 10:43:44,659 WARNING Retrying (Retry(total=2, connect=None, read=None, redirect=None, status=None)) after connection broken by 'ProtocolError('Connection aborted.', ConnectionResetError(10054, 'An existing connection was forcibly closed by the remote host', None, 10054, None))': /azureml/LocalUpload/210120T104342-7317119f/model/code/pyimagesearch/config.py?sv=2019-02-02&sr=b&sig=PHW6fToKFet%2BZjsFzqt0njZG9zjB0ZCo1pY4h2Ers9s%3D&st=2021-01-20T18%3A33%3A45Z&se=2021-01-21T18%3A43%3A45Z&sp=rcw&comp=block&blockid=TURBd01EQXdNREF3TURBd01EQXdNREF3TURBd01EQXdNREF3TURBd01EQSUzRA%3D%3D&timeout=30\n",
      "2021-01-20 10:43:44,679 WARNING Retrying (Retry(total=2, connect=None, read=None, redirect=None, status=None)) after connection broken by 'ProtocolError('Connection aborted.', ConnectionResetError(10054, 'An existing connection was forcibly closed by the remote host', None, 10054, None))': /azureml/LocalUpload/210120T104342-7317119f/model/code/pyimagesearch/__pycache__/config.cpython-37.pyc?sv=2019-02-02&sr=b&sig=UEhlaw1whN%2B%2FYhPpiVjKyGSgYnu%2Fkk9xWXJOpN%2B0XPA%3D&st=2021-01-20T18%3A33%3A45Z&se=2021-01-21T18%3A43%3A45Z&sp=rcw&comp=block&blockid=TURBd01EQXdNREF3TURBd01EQXdNREF3TURBd01EQXdNREF3TURBd01EQSUzRA%3D%3D&timeout=30\n",
      "2021-01-20 10:43:44,679 WARNING Retrying (Retry(total=2, connect=None, read=None, redirect=None, status=None)) after connection broken by 'ProtocolError('Connection aborted.', ConnectionResetError(10054, 'An existing connection was forcibly closed by the remote host', None, 10054, None))': /azureml/LocalUpload/210120T104342-7317119f/model/mlflow_env.yml?sv=2019-02-02&sr=b&sig=xCXe%2F8NaCmFs7mJlVp8T1L9IvPZ4OC43eMmK4a26zUo%3D&st=2021-01-20T18%3A33%3A45Z&se=2021-01-21T18%3A43%3A45Z&sp=rcw&comp=block&blockid=TURBd01EQXdNREF3TURBd01EQXdNREF3TURBd01EQXdNREF3TURBd01EQSUzRA%3D%3D&timeout=30\n",
      "2021-01-20 10:43:44,692 WARNING Retrying (Retry(total=2, connect=None, read=None, redirect=None, status=None)) after connection broken by 'ProtocolError('Connection aborted.', ConnectionResetError(10054, 'An existing connection was forcibly closed by the remote host', None, 10054, None))': /azureml/LocalUpload/210120T104342-7317119f/model/data/output/lb.pickle?sv=2019-02-02&sr=b&sig=QHN5FOtpI%2B76OfFApKAGme7colSV6axdNR6UAlbFu1I%3D&st=2021-01-20T18%3A33%3A45Z&se=2021-01-21T18%3A43%3A45Z&sp=rcw&comp=block&blockid=TURBd01EQXdNREF3TURBd01EQXdNREF3TURBd01EQXdNREF3TURBd01EQSUzRA%3D%3D&timeout=30\n",
      "2021-01-20 10:43:44,694 WARNING Retrying (Retry(total=2, connect=None, read=None, redirect=None, status=None)) after connection broken by 'ProtocolError('Connection aborted.', ConnectionResetError(10054, 'An existing connection was forcibly closed by the remote host', None, 10054, None))': /azureml/LocalUpload/210120T104342-7317119f/model/data/output/detector.h5?sv=2019-02-02&sr=b&sig=RsZIdx%2FdT7oe5ddo0yJX1gE85NTAimrU0WmeK1cdhWI%3D&st=2021-01-20T18%3A33%3A45Z&se=2021-01-21T18%3A43%3A45Z&sp=rcw&comp=block&blockid=TURBd01EQXdNREF3TURBd01EQXdNREF3TURBd01EQXdNRFF4T1RRek1EUSUzRA%3D%3D&timeout=30\n",
      "2021-01-20 10:43:44,701 WARNING Retrying (Retry(total=2, connect=None, read=None, redirect=None, status=None)) after connection broken by 'ProtocolError('Connection aborted.', ConnectionResetError(10054, 'An existing connection was forcibly closed by the remote host', None, 10054, None))': /azureml/LocalUpload/210120T104342-7317119f/model/code/pyimagesearch/model_loader.py?sv=2019-02-02&sr=b&sig=FcmFJ7cjv4rG%2BL0WoIiBUur4OiRFDa45%2FsmxbrG2tpw%3D&st=2021-01-20T18%3A33%3A45Z&se=2021-01-21T18%3A43%3A45Z&sp=rcw&comp=block&blockid=TURBd01EQXdNREF3TURBd01EQXdNREF3TURBd01EQXdNREF3TURBd01EQSUzRA%3D%3D&timeout=30\n",
      "2021-01-20 10:43:44,705 WARNING Retrying (Retry(total=2, connect=None, read=None, redirect=None, status=None)) after connection broken by 'ProtocolError('Connection aborted.', ConnectionResetError(10054, 'An existing connection was forcibly closed by the remote host', None, 10054, None))': /azureml/LocalUpload/210120T104342-7317119f/model/data/output/detector.h5?sv=2019-02-02&sr=b&sig=RsZIdx%2FdT7oe5ddo0yJX1gE85NTAimrU0WmeK1cdhWI%3D&st=2021-01-20T18%3A33%3A45Z&se=2021-01-21T18%3A43%3A45Z&sp=rcw&comp=block&blockid=TURBd01EQXdNREF3TURBd01EQXdNREF3TURBd01EQXdNREF3TURBd01EQSUzRA%3D%3D&timeout=30\n",
      "2021-01-20 10:43:44,708 WARNING Retrying (Retry(total=1, connect=None, read=None, redirect=None, status=None)) after connection broken by 'ProtocolError('Connection aborted.', ConnectionResetError(10054, 'An existing connection was forcibly closed by the remote host', None, 10054, None))': /azureml/LocalUpload/210120T104342-7317119f/model/code/pyimagesearch/__init__.py?sv=2019-02-02&sr=b&sig=wBIk36kjFdB3hEkyt6ddljK7momc2kD6uy8sYdoEp0M%3D&st=2021-01-20T18%3A33%3A45Z&se=2021-01-21T18%3A43%3A45Z&sp=rcw&comp=blocklist&timeout=30\n",
      "2021-01-20 10:43:44,785 WARNING Retrying (Retry(total=1, connect=None, read=None, redirect=None, status=None)) after connection broken by 'ProtocolError('Connection aborted.', ConnectionResetError(10054, 'An existing connection was forcibly closed by the remote host', None, 10054, None))': /azureml/LocalUpload/210120T104342-7317119f/model/code/pyimagesearch/model_loader.py?sv=2019-02-02&sr=b&sig=FcmFJ7cjv4rG%2BL0WoIiBUur4OiRFDa45%2FsmxbrG2tpw%3D&st=2021-01-20T18%3A33%3A45Z&se=2021-01-21T18%3A43%3A45Z&sp=rcw&comp=block&blockid=TURBd01EQXdNREF3TURBd01EQXdNREF3TURBd01EQXdNREF3TURBd01EQSUzRA%3D%3D&timeout=30\n",
      "2021-01-20 10:43:44,791 WARNING Retrying (Retry(total=1, connect=None, read=None, redirect=None, status=None)) after connection broken by 'ProtocolError('Connection aborted.', ConnectionResetError(10054, 'An existing connection was forcibly closed by the remote host', None, 10054, None))': /azureml/LocalUpload/210120T104342-7317119f/model/data/output/detector.h5?sv=2019-02-02&sr=b&sig=RsZIdx%2FdT7oe5ddo0yJX1gE85NTAimrU0WmeK1cdhWI%3D&st=2021-01-20T18%3A33%3A45Z&se=2021-01-21T18%3A43%3A45Z&sp=rcw&comp=block&blockid=TURBd01EQXdNREF3TURBd01EQXdNREF3TURBd01EQXdNREF3TURBd01EQSUzRA%3D%3D&timeout=30\n",
      "2021-01-20 10:43:44,794 WARNING Retrying (Retry(total=0, connect=None, read=None, redirect=None, status=None)) after connection broken by 'ProtocolError('Connection aborted.', ConnectionResetError(10054, 'An existing connection was forcibly closed by the remote host', None, 10054, None))': /azureml/LocalUpload/210120T104342-7317119f/model/code/pyimagesearch/__init__.py?sv=2019-02-02&sr=b&sig=wBIk36kjFdB3hEkyt6ddljK7momc2kD6uy8sYdoEp0M%3D&st=2021-01-20T18%3A33%3A45Z&se=2021-01-21T18%3A43%3A45Z&sp=rcw&comp=blocklist&timeout=30\n"
     ]
    },
    {
     "name": "stdout",
     "output_type": "stream",
     "text": [
      "Registering model object_detection_model\n"
     ]
    },
    {
     "name": "stderr",
     "output_type": "stream",
     "text": [
      "2021/01/20 10:44:08 INFO mlflow.azureml: Registered an Azure Model with name: `object_detection_model` and version: `27`\n",
      "2021/01/20 10:44:16 INFO mlflow.azureml: Deploying an Azure Webservice with name: `aml-mlflow-test-aks-d11`\n"
     ]
    },
    {
     "name": "stdout",
     "output_type": "stream",
     "text": [
      "Tips: You can try get_logs(): https://aka.ms/debugimage#dockerlog or local deployment: https://aka.ms/debugimage#debug-locally to debug if deployment takes longer than 10 minutes.\n",
      "Running.......................................\n",
      "Succeeded\n",
      "AKS service creation operation finished, operation \"Succeeded\"\n",
      "AKS service creation operation finished, operation \"Succeeded\"\n"
     ]
    }
   ],
   "source": [
    "import mlflow.azureml\n",
    "# Webservice creation using single command\n",
    "from azureml.core.webservice import AksWebservice, Webservice\n",
    "\n",
    "# set the model path \n",
    "model_path = \"model\"\n",
    "\n",
    "(webservice,model) = mlflow.azureml.deploy( model_uri=model_path,\n",
    "                      workspace=ws,\n",
    "                      model_name='aml_mflow_mixedmodel', \n",
    "                      service_name='aml-mlflow-mixedmodel-aks-d11', \n",
    "                      deployment_config=aks_config, \n",
    "                      tags=None, mlflow_home=None, synchronous=True)\n",
    "\n",
    "\n",
    "webservice.wait_for_deployment()\n"
   ]
  },
  {
   "cell_type": "code",
   "execution_count": 70,
   "metadata": {
    "scrolled": true
   },
   "outputs": [
    {
     "name": "stdout",
     "output_type": "stream",
     "text": [
      "[0, 0, 0]\n"
     ]
    }
   ],
   "source": [
    "#Score model with SDK object\n",
    "response = webservice.run(body)\n",
    "print(response)"
   ]
  },
  {
   "cell_type": "code",
   "execution_count": 80,
   "metadata": {
    "scrolled": true
   },
   "outputs": [
    {
     "name": "stdout",
     "output_type": "stream",
     "text": [
      "[[0.12486386299133301, 0.1821191906929016, 0.8843520283699036, 0.834100604057312, \"airplane\"], [0.1420917510986328, 0.18152016401290894, 0.8583660125732422, 0.8296916484832764, \"airplane\"]]\n"
     ]
    }
   ],
   "source": [
    "\n",
    "#another way to call http request directly \n",
    "import requests\n",
    "uri = webservice.scoring_uri\n",
    "api_key = '' # Replace this with the API key for the web service\n",
    "\n",
    "headers = {'Content-Type':'application/json', 'Authorization':('Bearer '+ api_key)}\n",
    "\n",
    "# uri ='http://9c729eb8-c2d1-4f24-9114-fbd35d040d7e.westus2.azurecontainer.io/score'\n",
    "response = requests.post(url=uri, data=body,headers=headers)\n",
    "print(response.text)\n"
   ]
  },
  {
   "cell_type": "code",
   "execution_count": 71,
   "metadata": {},
   "outputs": [
    {
     "data": {
      "text/plain": [
       "'http://486cc62b-8960-45f2-aa93-76cd3d844d56.westus2.azurecontainer.io/score'"
      ]
     },
     "execution_count": 71,
     "metadata": {},
     "output_type": "execute_result"
    }
   ],
   "source": [
    "webservice.scoring_uri"
   ]
  },
  {
   "cell_type": "code",
   "execution_count": null,
   "metadata": {},
   "outputs": [],
   "source": []
  }
 ],
 "metadata": {
  "kernelspec": {
   "display_name": "Python 3",
   "language": "python",
   "name": "python3"
  },
  "language_info": {
   "codemirror_mode": {
    "name": "ipython",
    "version": 3
   },
   "file_extension": ".py",
   "mimetype": "text/x-python",
   "name": "python",
   "nbconvert_exporter": "python",
   "pygments_lexer": "ipython3",
   "version": "3.8.5"
  }
 },
 "nbformat": 4,
 "nbformat_minor": 4
}
