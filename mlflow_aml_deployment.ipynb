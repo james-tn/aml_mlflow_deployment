{
 "cells": [
  {
   "cell_type": "markdown",
   "metadata": {},
   "source": [
    "## Deployment of Object Detection Model to Azure ML using MLFlow API"
   ]
  },
  {
   "cell_type": "code",
   "execution_count": null,
   "metadata": {},
   "outputs": [],
   "source": [
    "import mlflow\n",
    "from azureml.core import Workspace\n",
    "\n",
    "ws = Workspace.from_config()\n",
    "\n",
    "# mlflow.set_tracking_uri(ws.get_mlflow_tracking_uri())\n"
   ]
  },
  {
   "cell_type": "code",
   "execution_count": 2,
   "metadata": {},
   "outputs": [],
   "source": [
    "experiment_name = 'mlflow-aml-deployment'\n",
    "mlflow.set_experiment(experiment_name)"
   ]
  },
  {
   "cell_type": "code",
   "execution_count": null,
   "metadata": {},
   "outputs": [],
   "source": [
    "#Save the python flavor of the model together with environment spec\n",
    "import mlflow.pyfunc\n",
    "from sys import version_info\n",
    "\n",
    "from pyimagesearch import config\n",
    "from tensorflow.keras.preprocessing.image import img_to_array\n",
    "from tensorflow.keras.preprocessing.image import load_img\n",
    "from tensorflow.keras.models import load_model\n",
    "import pip\n",
    "import pickle\n",
    "import cv2\n",
    "import os\n",
    "import tensorflow as tf\n",
    "import sklearn\n",
    "\n",
    "# Construct and save the model\n",
    "PYTHON_VERSION = \"{major}.{minor}.{micro}\".format(major=version_info.major,\n",
    "                                                  minor=version_info.minor,\n",
    "                                                  micro=version_info.micro)\n",
    "# artifacts = {\n",
    "#     \"model_path\": \"output\"\n",
    "# }\n",
    "\n",
    "conda_env = {\n",
    "    'channels': ['defaults'],\n",
    "    'dependencies': [\n",
    "      'python={}'.format(PYTHON_VERSION),\n",
    "      'pip',\n",
    "      {\n",
    "        'pip': [\n",
    "          'mlflow',\n",
    "            'imutils',\n",
    "            'opencv-python-headless',\n",
    "            'pillow',\n",
    "            'azureml-mlflow',\n",
    "          'tensorflow=={}'.format(tf.__version__),\n",
    "          'scikit-learn=={}'.format(sklearn.__version__),\n",
    "        ],\n",
    "      },\n",
    "    ],\n",
    "    'name': 'tf_env'\n",
    "}\n",
    "\n",
    "\n",
    "model_path = \"model\"\n",
    "mlflow.pyfunc.save_model(path=model_path, data_path ='output',loader_module ='pyimagesearch.model_loader', code_path=['pyimagesearch'], conda_env=conda_env)\n",
    "\n"
   ]
  },
  {
   "cell_type": "markdown",
   "metadata": {},
   "source": [
    "### Preparing data to test service\n"
   ]
  },
  {
   "cell_type": "code",
   "execution_count": 7,
   "metadata": {},
   "outputs": [],
   "source": [
    "#Testing the deployed service\n",
    "\n",
    "from io import BytesIO\n",
    "import json\n",
    "import base64\n",
    "ENCODING = 'utf-8'\n",
    "test_image_paths =['dataset/images/airplane/image_0001.jpg','dataset/images/airplane/image_0002.jpg']\n",
    "base64_string_list=[]\n",
    "for test_image_path in test_image_paths:\n",
    "    with open(test_image_path,\"rb\") as img:\n",
    "        image_bytes = BytesIO(img.read())\n",
    "    encoded_image =base64.b64encode(image_bytes.getvalue())\n",
    "    base64_string = encoded_image.decode(ENCODING)\n",
    "    base64_string= \"b'{0}'\".format(base64_string)\n",
    "    base64_string_list.append(base64_string)\n",
    "image_request = {\"data\": base64_string_list}\n",
    "# payload.append(image_request)\n",
    "\n",
    "body = json.dumps(image_request)"
   ]
  },
  {
   "cell_type": "code",
   "execution_count": 8,
   "metadata": {},
   "outputs": [],
   "source": [
    "from mlflow.pyfunc.scoring_server import parse_json_input, _get_jsonable_obj\n",
    "\n",
    "import json\n",
    "# data = json.loads(body)['data']\n",
    "out = parse_json_input(json_input=body, orient=\"split\")\n"
   ]
  },
  {
   "cell_type": "code",
   "execution_count": 7,
   "metadata": {
    "scrolled": true
   },
   "outputs": [],
   "source": [
    "#Reload model locally and score \n",
    "\n",
    "import mlflow\n",
    "model_path = \"model\"\n",
    "loaded_model = mlflow.pyfunc.load_model(model_path)\n",
    "\n",
    "pred_output = loaded_model.predict(out)\n",
    "print(pred_output)"
   ]
  },
  {
   "cell_type": "markdown",
   "metadata": {},
   "source": [
    "### Deploy model to ACI"
   ]
  },
  {
   "cell_type": "code",
   "execution_count": 9,
   "metadata": {},
   "outputs": [],
   "source": [
    "from azureml.core.webservice import AciWebservice, Webservice\n",
    "\n",
    "# Set the model path to the model folder created by your run\n",
    "\n",
    "# Configure \n",
    "aci_config = AciWebservice.deploy_configuration(cpu_cores=1, \n",
    "                                                memory_gb=4, \n",
    "                                                tags={'method' : 'keras/tf'}, \n",
    "                                                description='aml-mlflow model',\n",
    "                                                location='westus2')\n"
   ]
  },
  {
   "cell_type": "code",
   "execution_count": 10,
   "metadata": {
    "scrolled": true
   },
   "outputs": [
    {
     "name": "stdout",
     "output_type": "stream",
     "text": [
      "Registering model object_detection_model\n"
     ]
    },
    {
     "name": "stderr",
     "output_type": "stream",
     "text": [
      "2021/01/19 10:49:34 INFO mlflow.azureml: Registered an Azure Model with name: `object_detection_model` and version: `19`\n",
      "2021/01/19 10:49:37 INFO mlflow.azureml: Deploying an Azure Webservice with name: `aml-mlflow-test-v2`\n"
     ]
    },
    {
     "name": "stdout",
     "output_type": "stream",
     "text": [
      "Tips: You can try get_logs(): https://aka.ms/debugimage#dockerlog or local deployment: https://aka.ms/debugimage#debug-locally to debug if deployment takes longer than 10 minutes.\n",
      "Running...........................................\n",
      "Succeeded\n",
      "ACI service creation operation finished, operation \"Succeeded\"\n",
      "Tips: You can try get_logs(): https://aka.ms/debugimage#dockerlog or local deployment: https://aka.ms/debugimage#debug-locally to debug if deployment takes longer than 10 minutes.\n",
      "SucceededACI service creation operation finished, operation \"Succeeded\"\n"
     ]
    }
   ],
   "source": [
    "import mlflow.azureml\n",
    "(webservice,model) = mlflow.azureml.deploy( model_uri=model_path,\n",
    "                      workspace=ws,\n",
    "                      model_name='object_detection_model', \n",
    "                      service_name='aml-mlflow-test-v2', \n",
    "                      deployment_config=aci_config, \n",
    "                      tags=None, mlflow_home=None, synchronous=True)\n",
    "\n",
    "webservice.wait_for_deployment(show_output=True)\n"
   ]
  },
  {
   "cell_type": "markdown",
   "metadata": {},
   "source": [
    "### Deploy model to AKS"
   ]
  },
  {
   "cell_type": "code",
   "execution_count": null,
   "metadata": {},
   "outputs": [],
   "source": [
    "deployment_config = AksWebservice.deploy_configuration(cpu_cores = 1, memory_gb = 1)\n",
    "   prov_config = AksCompute.provisioning_configuration(vm_size = \"Standard_PB6s\",\n",
    "                                                       agent_count = 1,\n",
    "                                                       location = \"eastus\")\n",
    "\n"
   ]
  },
  {
   "cell_type": "code",
   "execution_count": 29,
   "metadata": {},
   "outputs": [
    {
     "name": "stdout",
     "output_type": "stream",
     "text": [
      "Creating...............................................................\n",
      "SucceededProvisioning operation finished, operation \"Succeeded\"\n",
      "Succeeded\n",
      "None\n"
     ]
    }
   ],
   "source": [
    "from azureml.core.compute import AksCompute, ComputeTarget\n",
    "\n",
    "# Use the default configuration (can also provide parameters to customize)\n",
    "# prov_config = AksCompute.provisioning_configuration()\n",
    "\n",
    "prov_config = AksCompute.provisioning_configuration(vm_size = \"Standard_D11_v2\",\n",
    "                                                   agent_count = 3,\n",
    "                                                   location = \"westus2\")\n",
    "\n",
    "aks_name = 'aks-mlflow-d11'\n",
    "\n",
    "# Create the cluster\n",
    "aks_target = ComputeTarget.create(workspace=ws, \n",
    "                                  name=aks_name, \n",
    "                                  provisioning_configuration=prov_config)\n",
    "\n",
    "aks_target.wait_for_completion(show_output = True)\n",
    "\n",
    "print(aks_target.provisioning_state)\n",
    "print(aks_target.provisioning_errors)\n"
   ]
  },
  {
   "cell_type": "code",
   "execution_count": null,
   "metadata": {},
   "outputs": [],
   "source": []
  },
  {
   "cell_type": "code",
   "execution_count": 40,
   "metadata": {},
   "outputs": [],
   "source": [
    "from azureml.core.webservice import Webservice, AksWebservice\n",
    "\n",
    "# Set the web service configuration (using default here with app insights)\n",
    "aks_config = AksWebservice.deploy_configuration(enable_app_insights=True, cpu_cores = 1, memory_gb = 7, compute_target_name='aks-mlflow-d11',autoscale_enabled=True, \n",
    "                                                autoscale_target_utilization=30,\n",
    "                                                autoscale_min_replicas=3)\n",
    "\n"
   ]
  },
  {
   "cell_type": "code",
   "execution_count": 41,
   "metadata": {
    "scrolled": false
   },
   "outputs": [
    {
     "name": "stderr",
     "output_type": "stream",
     "text": [
      "2021-01-19 18:06:49,119 WARNING Retrying (Retry(total=2, connect=None, read=None, redirect=None, status=None)) after connection broken by 'ProtocolError('Connection aborted.', ConnectionResetError(10054, 'An existing connection was forcibly closed by the remote host', None, 10054, None))': /azureml/LocalUpload/210119T180646-13afcb01/model/code/pyimagesearch/__init__.py?sv=2019-02-02&sr=b&sig=p7GCpapZO6IINqvDC%2F3S8tMyIZPt5VynU68ALpCPbvE%3D&st=2021-01-20T01%3A56%3A49Z&se=2021-01-21T02%3A06%3A49Z&sp=rcw&comp=blocklist&timeout=30\n",
      "2021-01-19 18:06:49,127 WARNING Retrying (Retry(total=2, connect=None, read=None, redirect=None, status=None)) after connection broken by 'ProtocolError('Connection aborted.', ConnectionResetError(10054, 'An existing connection was forcibly closed by the remote host', None, 10054, None))': /azureml/LocalUpload/210119T180646-13afcb01/model/code/pyimagesearch/__pycache__/__init__.cpython-37.pyc?sv=2019-02-02&sr=b&sig=oAwgSM%2BZIzUoiBg3NLTzb4WoWVCVTgqRVrRW7FNuRUo%3D&st=2021-01-20T01%3A56%3A49Z&se=2021-01-21T02%3A06%3A49Z&sp=rcw&comp=block&blockid=TURBd01EQXdNREF3TURBd01EQXdNREF3TURBd01EQXdNREF3TURBd01EQSUzRA%3D%3D&timeout=30\n",
      "2021-01-19 18:06:49,130 WARNING Retrying (Retry(total=2, connect=None, read=None, redirect=None, status=None)) after connection broken by 'ProtocolError('Connection aborted.', ConnectionResetError(10054, 'An existing connection was forcibly closed by the remote host', None, 10054, None))': /azureml/LocalUpload/210119T180646-13afcb01/model/code/pyimagesearch/__pycache__/config.cpython-37.pyc?sv=2019-02-02&sr=b&sig=MIb3XFWr0KH52mftuFwZbBZTI5k%2BkJBtD0JNAZ7wJyQ%3D&st=2021-01-20T01%3A56%3A49Z&se=2021-01-21T02%3A06%3A49Z&sp=rcw&comp=block&blockid=TURBd01EQXdNREF3TURBd01EQXdNREF3TURBd01EQXdNREF3TURBd01EQSUzRA%3D%3D&timeout=30\n",
      "2021-01-19 18:06:49,131 WARNING Retrying (Retry(total=2, connect=None, read=None, redirect=None, status=None)) after connection broken by 'ProtocolError('Connection aborted.', ConnectionResetError(10054, 'An existing connection was forcibly closed by the remote host', None, 10054, None))': /azureml/LocalUpload/210119T180646-13afcb01/model/code/pyimagesearch/__pycache__/config.cpython-38.pyc?sv=2019-02-02&sr=b&sig=QvHmqcVbNaymwIROMM430LZOacAXZdBxUY6BYCbD2qU%3D&st=2021-01-20T01%3A56%3A49Z&se=2021-01-21T02%3A06%3A49Z&sp=rcw&comp=block&blockid=TURBd01EQXdNREF3TURBd01EQXdNREF3TURBd01EQXdNREF3TURBd01EQSUzRA%3D%3D&timeout=30\n",
      "2021-01-19 18:06:49,135 WARNING Retrying (Retry(total=2, connect=None, read=None, redirect=None, status=None)) after connection broken by 'ProtocolError('Connection aborted.', ConnectionResetError(10054, 'An existing connection was forcibly closed by the remote host', None, 10054, None))': /azureml/LocalUpload/210119T180646-13afcb01/model/MLmodel?sv=2019-02-02&sr=b&sig=Xk1x6KXQkFepUGeVYPr2LUGtSnYtLOmkjv6cRKWGELE%3D&st=2021-01-20T01%3A56%3A49Z&se=2021-01-21T02%3A06%3A49Z&sp=rcw&comp=block&blockid=TURBd01EQXdNREF3TURBd01EQXdNREF3TURBd01EQXdNREF3TURBd01EQSUzRA%3D%3D&timeout=30\n",
      "2021-01-19 18:06:49,143 WARNING Retrying (Retry(total=2, connect=None, read=None, redirect=None, status=None)) after connection broken by 'ProtocolError('Connection aborted.', ConnectionResetError(10054, 'An existing connection was forcibly closed by the remote host', None, 10054, None))': /azureml/LocalUpload/210119T180646-13afcb01/model/mlflow_env.yml?sv=2019-02-02&sr=b&sig=1Sqx%2FgQgp2RvRqoJ0xfd4v0EbAmszsZxi2Pz4wddJ1w%3D&st=2021-01-20T01%3A56%3A49Z&se=2021-01-21T02%3A06%3A49Z&sp=rcw&comp=block&blockid=TURBd01EQXdNREF3TURBd01EQXdNREF3TURBd01EQXdNREF3TURBd01EQSUzRA%3D%3D&timeout=30\n",
      "2021-01-19 18:06:49,143 WARNING Retrying (Retry(total=2, connect=None, read=None, redirect=None, status=None)) after connection broken by 'ProtocolError('Connection aborted.', ConnectionResetError(10054, 'An existing connection was forcibly closed by the remote host', None, 10054, None))': /azureml/LocalUpload/210119T180646-13afcb01/model/code/pyimagesearch/config.py?sv=2019-02-02&sr=b&sig=WRnSO5QuJjzPmRQFQlOeQMtKKM6mi6bbJVJiSibZuh0%3D&st=2021-01-20T01%3A56%3A49Z&se=2021-01-21T02%3A06%3A49Z&sp=rcw&comp=block&blockid=TURBd01EQXdNREF3TURBd01EQXdNREF3TURBd01EQXdNREF3TURBd01EQSUzRA%3D%3D&timeout=30\n",
      "2021-01-19 18:06:49,144 WARNING Retrying (Retry(total=2, connect=None, read=None, redirect=None, status=None)) after connection broken by 'ProtocolError('Connection aborted.', ConnectionResetError(10054, 'An existing connection was forcibly closed by the remote host', None, 10054, None))': /azureml/LocalUpload/210119T180646-13afcb01/model/data/output/detector.h5?sv=2019-02-02&sr=b&sig=KDLgjpGbx1R0IyPpkERHXEtwEI7FJfVmqqlBp%2FWLbEU%3D&st=2021-01-20T01%3A56%3A49Z&se=2021-01-21T02%3A06%3A49Z&sp=rcw&comp=block&blockid=TURBd01EQXdNREF3TURBd01EQXdNREF3TURBd01EQXdNREF3TURBd01EQSUzRA%3D%3D&timeout=30\n",
      "2021-01-19 18:06:49,146 WARNING Retrying (Retry(total=2, connect=None, read=None, redirect=None, status=None)) after connection broken by 'ProtocolError('Connection aborted.', ConnectionResetError(10054, 'An existing connection was forcibly closed by the remote host', None, 10054, None))': /azureml/LocalUpload/210119T180646-13afcb01/model/data/output/lb.pickle?sv=2019-02-02&sr=b&sig=6PrGziMWgSJvKf6jQ1PO7mrjQXOGYA4n7LXcMaqhEC4%3D&st=2021-01-20T01%3A56%3A49Z&se=2021-01-21T02%3A06%3A49Z&sp=rcw&comp=block&blockid=TURBd01EQXdNREF3TURBd01EQXdNREF3TURBd01EQXdNREF3TURBd01EQSUzRA%3D%3D&timeout=30\n",
      "2021-01-19 18:06:49,150 WARNING Retrying (Retry(total=2, connect=None, read=None, redirect=None, status=None)) after connection broken by 'ProtocolError('Connection aborted.', ConnectionResetError(10054, 'An existing connection was forcibly closed by the remote host', None, 10054, None))': /azureml/LocalUpload/210119T180646-13afcb01/model/code/pyimagesearch/__pycache__/model_loader.cpython-38.pyc?sv=2019-02-02&sr=b&sig=fpJFmn3qB9NV8GBcmx7VtrqF3Kq3toFGLrqYg4KSMFM%3D&st=2021-01-20T01%3A56%3A49Z&se=2021-01-21T02%3A06%3A49Z&sp=rcw&comp=block&blockid=TURBd01EQXdNREF3TURBd01EQXdNREF3TURBd01EQXdNREF3TURBd01EQSUzRA%3D%3D&timeout=30\n",
      "2021-01-19 18:06:49,220 WARNING Retrying (Retry(total=2, connect=None, read=None, redirect=None, status=None)) after connection broken by 'ProtocolError('Connection aborted.', ConnectionResetError(10054, 'An existing connection was forcibly closed by the remote host', None, 10054, None))': /azureml/LocalUpload/210119T180646-13afcb01/model/code/pyimagesearch/model_loader.py?sv=2019-02-02&sr=b&sig=66VmcJYhUVvJ86gWin8RMFfmi7ycMeyMkLSomgJx5Kw%3D&st=2021-01-20T01%3A56%3A49Z&se=2021-01-21T02%3A06%3A49Z&sp=rcw&comp=block&blockid=TURBd01EQXdNREF3TURBd01EQXdNREF3TURBd01EQXdNREF3TURBd01EQSUzRA%3D%3D&timeout=30\n",
      "2021-01-19 18:06:49,238 WARNING Retrying (Retry(total=2, connect=None, read=None, redirect=None, status=None)) after connection broken by 'ProtocolError('Connection aborted.', ConnectionResetError(10054, 'An existing connection was forcibly closed by the remote host', None, 10054, None))': /azureml/LocalUpload/210119T180646-13afcb01/model/data/output/detector.h5?sv=2019-02-02&sr=b&sig=KDLgjpGbx1R0IyPpkERHXEtwEI7FJfVmqqlBp%2FWLbEU%3D&st=2021-01-20T01%3A56%3A49Z&se=2021-01-21T02%3A06%3A49Z&sp=rcw&comp=block&blockid=TURBd01EQXdNREF3TURBd01EQXdNREF3TURBd01EQXdNRFF4T1RRek1EUSUzRA%3D%3D&timeout=30\n",
      "2021-01-19 18:06:49,254 WARNING Retrying (Retry(total=1, connect=None, read=None, redirect=None, status=None)) after connection broken by 'ProtocolError('Connection aborted.', ConnectionResetError(10054, 'An existing connection was forcibly closed by the remote host', None, 10054, None))': /azureml/LocalUpload/210119T180646-13afcb01/model/code/pyimagesearch/__init__.py?sv=2019-02-02&sr=b&sig=p7GCpapZO6IINqvDC%2F3S8tMyIZPt5VynU68ALpCPbvE%3D&st=2021-01-20T01%3A56%3A49Z&se=2021-01-21T02%3A06%3A49Z&sp=rcw&comp=blocklist&timeout=30\n"
     ]
    },
    {
     "name": "stdout",
     "output_type": "stream",
     "text": [
      "Registering model object_detection_model\n"
     ]
    },
    {
     "name": "stderr",
     "output_type": "stream",
     "text": [
      "2021/01/19 18:07:13 INFO mlflow.azureml: Registered an Azure Model with name: `object_detection_model` and version: `25`\n",
      "2021/01/19 18:07:20 INFO mlflow.azureml: Deploying an Azure Webservice with name: `aml-mlflow-test-aks-d11`\n"
     ]
    },
    {
     "name": "stdout",
     "output_type": "stream",
     "text": [
      "Tips: You can try get_logs(): https://aka.ms/debugimage#dockerlog or local deployment: https://aka.ms/debugimage#debug-locally to debug if deployment takes longer than 10 minutes.\n",
      "Running...........................................\n",
      "Succeeded\n",
      "AKS service creation operation finished, operation \"Succeeded\"\n",
      "AKS service creation operation finished, operation \"Succeeded\"\n"
     ]
    }
   ],
   "source": [
    "import mlflow.azureml\n",
    "# Webservice creation using single command\n",
    "from azureml.core.webservice import AksWebservice, Webservice\n",
    "\n",
    "# set the model path \n",
    "model_path = \"model\"\n",
    "\n",
    "(webservice,model) = mlflow.azureml.deploy( model_uri=model_path,\n",
    "                      workspace=ws,\n",
    "                      model_name='object_detection_model', \n",
    "                      service_name='aml-mlflow-test-aks-d11', \n",
    "                      deployment_config=aks_config, \n",
    "                      tags=None, mlflow_home=None, synchronous=True)\n",
    "\n",
    "\n",
    "webservice.wait_for_deployment()\n"
   ]
  },
  {
   "cell_type": "code",
   "execution_count": 78,
   "metadata": {
    "scrolled": true
   },
   "outputs": [
    {
     "name": "stdout",
     "output_type": "stream",
     "text": [
      "[[0.12486386299133301, 0.1821191906929016, 0.8843520283699036, 0.834100604057312, 'airplane'], [0.1420917510986328, 0.18152016401290894, 0.8583660125732422, 0.8296916484832764, 'airplane']]\n"
     ]
    }
   ],
   "source": [
    "#Score model with SDK object\n",
    "response = webservice.run(body)\n",
    "print(response)"
   ]
  },
  {
   "cell_type": "code",
   "execution_count": 80,
   "metadata": {
    "scrolled": true
   },
   "outputs": [
    {
     "name": "stdout",
     "output_type": "stream",
     "text": [
      "[[0.12486386299133301, 0.1821191906929016, 0.8843520283699036, 0.834100604057312, \"airplane\"], [0.1420917510986328, 0.18152016401290894, 0.8583660125732422, 0.8296916484832764, \"airplane\"]]\n"
     ]
    }
   ],
   "source": [
    "\n",
    "#another way to call http request directly \n",
    "import requests\n",
    "uri = webservice.scoring_uri\n",
    "api_key = '' # Replace this with the API key for the web service\n",
    "\n",
    "headers = {'Content-Type':'application/json', 'Authorization':('Bearer '+ api_key)}\n",
    "\n",
    "# uri ='http://9c729eb8-c2d1-4f24-9114-fbd35d040d7e.westus2.azurecontainer.io/score'\n",
    "response = requests.post(url=uri, data=body,headers=headers)\n",
    "print(response.text)\n"
   ]
  },
  {
   "cell_type": "code",
   "execution_count": 25,
   "metadata": {},
   "outputs": [],
   "source": [
    "#Visualize result\n",
    "import imutils\n",
    "import pickle\n",
    "import cv2\n",
    "import os\n",
    "import ast\n",
    "pred_results = ast.literal_eval(response.text)\n",
    "for pred_result, imagePath in zip( pred_results,test_image_paths):\n",
    "\t# load the input image (in Keras format) from disk and preprocess\n",
    "\t# it, scaling the pixel intensities to the range [0, 1]\n",
    "\n",
    "\tstartX, startY, endX, endY,label = pred_result[0],pred_result[1],pred_result[2],pred_result[3],pred_result[4]\n",
    "\n",
    "\t# determine the class label with the largest predicted\n",
    "\t# probability\n",
    "\n",
    "\t# load the input image (in OpenCV format), resize it such that it\n",
    "\t# fits on our screen, and grab its dimensions\n",
    "\timage = cv2.imread(imagePath)\n",
    "\timage = imutils.resize(image, width=600)\n",
    "\t(h, w) = image.shape[:2]\n",
    "\n",
    "\t# scale the predicted bounding box coordinates based on the image\n",
    "\t# dimensions\n",
    "\tstartX = int(startX * w)\n",
    "\tstartY = int(startY * h)\n",
    "\tendX = int(endX * w)\n",
    "\tendY = int(endY * h)\n",
    "\n",
    "\t# draw the predicted bounding box and class label on the image\n",
    "\ty = startY - 10 if startY - 10 > 10 else startY + 10\n",
    "\tcv2.putText(image, label, (startX, y), cv2.FONT_HERSHEY_SIMPLEX,\n",
    "\t\t0.65, (0, 255, 0), 2)\n",
    "\tcv2.rectangle(image, (startX, startY), (endX, endY),\n",
    "\t\t(0, 255, 0), 2)\n",
    "\n",
    "\t# show the output image\n",
    "\tcv2.imshow(\"Output\", image)\n",
    "\tcv2.waitKey(0)"
   ]
  }
 ],
 "metadata": {
  "kernelspec": {
   "display_name": "Python 3",
   "language": "python",
   "name": "python3"
  },
  "language_info": {
   "codemirror_mode": {
    "name": "ipython",
    "version": 3
   },
   "file_extension": ".py",
   "mimetype": "text/x-python",
   "name": "python",
   "nbconvert_exporter": "python",
   "pygments_lexer": "ipython3",
   "version": "3.8.5"
  }
 },
 "nbformat": 4,
 "nbformat_minor": 4
}
